{
 "cells": [
  {
   "cell_type": "code",
   "execution_count": 4,
   "metadata": {},
   "outputs": [
    {
     "name": "stdout",
     "output_type": "stream",
     "text": [
      "{'next_page': None,\n",
      " 'security': {'code': 'EQS',\n",
      "              'company_id': 'com_NX6GzO',\n",
      "              'composite_figi': 'BBG000B9XRY4',\n",
      "              'composite_ticker': 'AAPL:US',\n",
      "              'currency': 'USD',\n",
      "              'figi': 'BBG000B9Y5X2',\n",
      "              'id': 'sec_agjrgj',\n",
      "              'name': 'Apple Inc',\n",
      "              'share_class_figi': 'BBG001S5N8V8',\n",
      "              'ticker': 'AAPL'},\n",
      " 'stock_prices': [{'adj_close': 155.213995642391,\n",
      "                   'adj_high': 156.128059826456,\n",
      "                   'adj_low': 151.587224847556,\n",
      "                   'adj_open': 152.235915558827,\n",
      "                   'adj_volume': 37039737.0,\n",
      "                   'close': 157.92,\n",
      "                   'date': datetime.date(2019, 1, 2),\n",
      "                   'frequency': 'daily',\n",
      "                   'high': 158.85,\n",
      "                   'intraperiod': False,\n",
      "                   'low': 154.23,\n",
      "                   'open': 154.89,\n",
      "                   'volume': 37039737.0}]}\n"
     ]
    }
   ],
   "source": [
    "#!/bin/env python3\n",
    "from __future__ import print_function\n",
    "import time\n",
    "import intrinio_sdk\n",
    "from intrinio_sdk.rest import ApiException\n",
    "from pprint import pprint\n",
    "\n",
    "intrinio_sdk.ApiClient().configuration.api_key['api_key'] = 'OjFhZDBjNjQ4ODI1MmQ4NTFmMzA2OWE3NjAwYjg3ZDg1'\n",
    "\n",
    "security_api = intrinio_sdk.SecurityApi()\n",
    "\n",
    "identifier = 'AAPL' # str | A Security identifier (Ticker, FIGI, ISIN, CUSIP, Intrinio ID)\n",
    "start_date = '2019-01-01' # date | Return prices on or after the date (optional)\n",
    "end_date = '2019-01-02' # date | Return prices on or before the date (optional)\n",
    "frequency = 'daily' # str | Return stock prices in the given frequency (optional) (default to daily)\n",
    "page_size = 100 # int | The number of results to return (optional) (default to 100)\n",
    "next_page = '' # str | Gets the next page of data from a previous API call (optional)\n",
    "\n",
    "try:\n",
    "  api_response = security_api.get_security_stock_prices(identifier, start_date=start_date, end_date=end_date, frequency=frequency, page_size=page_size, next_page=next_page)\n",
    "  pprint(api_response)\n",
    "except ApiException as e:\n",
    "  print(\"Exception when calling SecurityApi->get_security_stock_prices: %s\\r\\n\" % e)"
   ]
  },
  {
   "cell_type": "code",
   "execution_count": null,
   "metadata": {},
   "outputs": [],
   "source": []
  }
 ],
 "metadata": {
  "kernelspec": {
   "display_name": "Python 3",
   "language": "python",
   "name": "python3"
  },
  "language_info": {
   "codemirror_mode": {
    "name": "ipython",
    "version": 3
   },
   "file_extension": ".py",
   "mimetype": "text/x-python",
   "name": "python",
   "nbconvert_exporter": "python",
   "pygments_lexer": "ipython3",
   "version": "3.7.6"
  }
 },
 "nbformat": 4,
 "nbformat_minor": 4
}
